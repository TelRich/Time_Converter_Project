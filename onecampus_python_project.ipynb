{
 "cells": [
  {
   "cell_type": "markdown",
   "id": "394a989f",
   "metadata": {},
   "source": [
    "# COHORT 14 AND 15 PYTHON ACADEMY PROJECT\n",
    "\n",
    "## Project Brief:\n",
    "Badmus Kwasi is a student of OneCampus enrolled in the Data Science Program. Badmus belongs to a cohort of over 800 students. During the first few bootcamps, Badmus observes the difficulty students in all the cohorts of OneCampus have in knowing their Bootcamp dates and times in their local/county time zones. This difficulty often results in students logging in too early, too late, or totally missing their bootcamps. Bootcamp times are always issued in Eastern Standard Time (EST) which is approximately UTC -5. This is the America_New York time. OneCampus has students in all the time zones of the world.\n",
    "\n",
    "Badmus wants to develop a PYTHON-ONLY application that can be used to convert Bootcamp times from EST to any of the time zones requested by a student. The app should be able to convert the given date and time (Day and Time) to the requested time zone day and time.\n",
    "\n",
    "The app should be able to store information about upcoming bootcamps by program type (Data Science, Machine Learning, and Data Analytics) using python containers ONLY and provide a corresponding list of the schedules in any time zone or country requested by a student. This app must not have any database implemented and should not read from nor save to any file on disk. All data MUST be stored in python code using containers ONLY.\n",
    "\n",
    "As a bonus,if a student provides his/her full name, Country name and time zone, and email address, the app can generate an alert for the student on their computer (no need for an email script) notifying the student 24 hours before their next Bootcamp start time and 2 hours before Bootcamp Scedule (see attached excel sheet)\n",
    "Also provided are two lists of world time zone times.\n",
    "\n",
    "One lists contains times by country while the second list provides time by time zone. \n",
    "\n",
    "This is a list of all the time zone names along with their offset in seconds from UTC and also offset during daylight savings time from UTC. The format of the csv is simply timezone, offset, offset_dst.\n",
    "\n",
    "## Project Specifications:\n",
    "App Capability\n",
    "1. App should hold information about the times in countries of the world (two lists have been provided. One contains 588 Countries times while the other has times for 404 countries).\n",
    "- a. Should therefore be able to tell the current time in any country specified by the user by simply reading the current system time and time zone\n",
    "2. App should hold the time zones and times of the 200 time zones provided.\n",
    "- a. Should therefore be able to tell the time zone of any country specified by the user.\n",
    "3. When provided the name of a source country and time zone, the app should be able to provide the equivalent time in any specified target country and display its time zone.\n",
    "4. App should be able to generate the Bootcamp schedule in the time/timezone of any country specified.\n",
    "5. As a bonus, the app should be able to read the current system time and alert the user if any upcoming Bootcamp is less than 24 hours from the current system time.\n",
    "6. Additional bonus: Implement code with a database backend and a Graphical User Interface."
   ]
  },
  {
   "cell_type": "code",
   "execution_count": 11,
   "id": "43184d98",
   "metadata": {},
   "outputs": [],
   "source": [
    "import datetime as dt"
   ]
  },
  {
   "cell_type": "code",
   "execution_count": 2,
   "id": "5f535ded",
   "metadata": {},
   "outputs": [],
   "source": [
    "# Dictionary of country and time {c_t}\n",
    "c_t = {\n",
    "    'abidjan': 0, 'accra': 0, 'addis_ababa': 10800, 'algiers': 3600,\n",
    "    'asmara': 10800, 'asmera': 10800, 'bamako': 0, 'bangui': 3600,\n",
    "    'banjul': 0, 'bissau': 0, 'blantyre': 7200, 'brazzaville': 3600,\n",
    "    'bujumbura': 7200, 'cairo': 7200, 'casablanca': 0, 'ceuta': 3600,\n",
    "    'conakry': 0, 'dakar': 0, 'dar_es_salaam': 10800, 'djibouti': 10800,\n",
    "    'douala': 3600, 'el_aaiun': 0, 'freetown': 0, 'gaborone':7200,\n",
    "    'harare': 7200, 'johannesburg': 7200, 'juba': 10800, 'kampala': 10800,\n",
    "    'khartoum': 10800, 'kigali': 7200, 'kinshasa': 3600, 'lagos': 3600,\n",
    "    'libreville': 3600, 'lome': 0, 'luanda': 3600, 'lubumbashi': 7200,\n",
    "    'lusaka': 7200, 'malabo': 3600, 'maputo': 7200, 'maseru': 7200, \n",
    "    'mbabane': 7200, 'mogadishu': 10800, 'monrovia': 0, 'nairobi': 10800,\n",
    "    'ndjamena': 3600, 'nouakchott': 0, 'ouagadougou': 0, 'porto_novo': 3600,\n",
    "    'sao_tome': 0, 'timbuktu': 0, 'tripoli': 7200, 'tunis': 3600,\n",
    "    'windhoek': 3600, 'adak': -36000, 'anchorage': -32400, 'anguilla': -14400,\n",
    "    'antigua': -14400, 'araguaina': -10800, 'buenos_aires': -10800, 'catamarca': -10800,\n",
    "    'comodrivadavia': -10800, 'cordoba': -10800, 'jujuy': -10800, 'la_rioja': -10800,\n",
    "    'mendoza': -10800, 'rio_gallegos': -10800, 'salta': -10800, 'san_juan': -10800,\n",
    "    'tucuman': -10800, 'ushuaia': -10800, 'aruba': -14400, 'asuncion': -10800,\n",
    "    'atikokan': -10800, 'atka': -36000, 'bahia': -10800, 'bahia_banderas': -21600, \n",
    "    'barbados': -14400, 'belem': -10800, 'belize': -21600, 'blanc_sablon': -14400,\n",
    "    'boa_vista': -14400, 'bogota': -18000, 'boise': -25200, 'buenos_aires': -10800,\n",
    "    'cambridge_bay': -25200, 'campo_grande': -14400, 'cancun': -18000, 'caracas': -16200,\n",
    "    'catamarca': -10800, 'cayenne': -10800, 'cayman': -18000, 'chicago': -21600,\n",
    "    'chihuahua': -25200, 'coral_harbour': -18000, 'cordoba': -10800, 'costa_rica': -21600,\n",
    "    'creston': -25200, 'cuiaba': -14400, 'curacao': -14400, 'danmarkshavn': 0,\n",
    "    'dawson': -28800, 'dawson_creek': -25200, 'denver': -25200, 'detroit': -18000,\n",
    "    'dominica': -14400, 'edmonton': -25200, 'eirunepe': -18000, 'el_salvador': -21600,\n",
    "    'ensenada': -28800, 'fort_nelson': -25200, 'fort_wayne': -18000, 'fortaleza': -10800,\n",
    "    'glace_bay': -14400, 'godthab': -10800, 'goose_bay': -14400, 'grand_turk': -14400,\n",
    "    'grenada': -14400, 'guadeloupe': -14400, 'guatemala': -21600, 'guayaquil': -18000,\n",
    "    'guyana': -14400, 'halifax': -14400, 'havana': -18000, 'hermosillo': -25200,\n",
    "    'indianapolis': -18000, 'knox': -21600, 'marengo': -18000, 'petersburg': -18000,\n",
    "    'tell_city': -21600, 'vevay': -18000, 'vincennes': -18000, 'winamac': -18000, \n",
    "    'indianapolis': 18000, 'inuvik': -25200, 'iqaluit': -18000, 'jamaica': -18000,\n",
    "    'jujuy': -10800, 'juneau': -32400, 'louisville': -18000, 'monticello': -18000,\n",
    "    'knox_in': -21600, 'kralendijk': -14400, 'la_paz': -14400, 'lima': -18000, \n",
    "    'los_angeles': -28800, 'louisville': -18000, 'lower_princes': -14400, 'maceio': -10800,\n",
    "    'managua': -21600, 'manaus': -14400, 'marigot': -14400, 'martinique': -14400, \n",
    "    'matamoros': -21600, 'maazatlan': -25200, 'menominee': -21600, 'merida': -21600,\n",
    "    'metlakatla': -28800, 'mexico_city': -21600, 'miquelon': -10800, 'moncton': -14400,\n",
    "    'monterrey': -21600, 'montevideo': -10800, 'montreal': -18000, 'montserrat': -14400,\n",
    "    'nassau': -18000, 'new_york': -18000, 'nipigon': -18000, 'nome': -32400, \n",
    "    'noronha': -7200, 'beulah': -21600, 'center': -21600, 'new_salem': -21600,\n",
    "    'ojinaga': -25200, 'panama': -18000, 'pangnirtung': -18000, 'paramaribo': -10800,\n",
    "    'phoenix': -25200, 'port_au_prince': -18000, 'port_of_spain': -14400, 'porto_acre': -18000,\n",
    "    'rainy_river': -21600, 'rankin_inlet': -21600, 'recife': -10800, 'regina': -21600,\n",
    "    'resolute': -21600, 'rio_branco': -18000, 'rosario': -10800, 'santa_isabel': -28800,\n",
    "    'santarem': -10800, 'santiago': -10800, 'sao_paulo': -10800, 'scoresbysund': -3600,\n",
    "    'shiprock': -25200, 'sitka': -32400, 'st_barthelemy': -14400, 'st_johns': -12600,\n",
    "    'st_kitts': -14400, 'st_lucia': -14400, 'st_thomas': -14400, 'st_vincent': -14400,\n",
    "    'swift_current': -21600, 'tegucigalpa': -21600, 'thule': -14400, 'thunder_bay': -18000,\n",
    "    'tijuana': -28800, 'toronto': -18000, 'tortola': -14400, 'vancouver': -28800, \n",
    "    'virgin': -14400, 'whitehorse': -28800, 'winnipeg': -21600, 'yakutat': -32400, \n",
    "    'yellowknife': -25200, 'casey': 28800, 'davis': 25200, 'dumontdurville': 36000,\n",
    "    'macquarie': 39600, 'mawson': 18000, 'mcmurdo': 43200, 'palmer': -10800, \n",
    "    'rothera': -10800, 'south_pole': 43200, 'syowa': 10800, 'troll': 0, \n",
    "    'vostok': 21600, 'longyearbyen': 3600, 'aden': 10800, 'almaty': 21600, \n",
    "    'amman': 7200, 'anadyr': 43200, 'aqtau': 18000, 'aqtobe': 18000,\n",
    "    'ashgabat': 18000, 'baghdad': 10800, 'bahrain': 10800, 'baku': 14400,\n",
    "    'bangkok': 25200, 'beirut': 7200, 'bishkek': 21600, 'brunei': 28800,\n",
    "    'calcutta': 19800, 'chita': 28800, 'choibalsan': 28800, 'chongqing': 28800,\n",
    "    'chungking': 28800, 'colombo': 19800, 'dacca': 21600, 'damascus': 7200,\n",
    "    'dhaka': 21600, 'dili': 32400, 'dubai': 14400, 'dushanbe': 18000, \n",
    "    'gaza': 7200, 'harbin': 28800, 'hebron': 7200, 'ho_chi_minh': 25200,\n",
    "    'hong_kong': 28800, 'hovd': 25200, 'irkutsk': 28800, 'istanbul': 7200,\n",
    "    'jakarta': 25200, 'jayapura': 32400, 'jerusalem': 7200, 'kabul': 16200,\n",
    "    'kamchatka': 43200, 'karachi': 18000, 'kashgar': 21600, 'kathmandu': 20700, \n",
    "    'katmandu': 20700, 'khandyga': 32400, 'kolkata': 19800, 'krasnoyarsk': 25200,\n",
    "    'kuala_lumpur': 28800, 'kuching': 28800, 'kuwait': 10800, 'macao': 28800,\n",
    "    'macau': 28800, 'magadan': 36000, 'makassar': 28800, 'manila': 28800,\n",
    "    'muscat': 14400, 'nicosia': 7200, 'novokuznetsk': 25200, 'novosibirsk': 21600,\n",
    "    'omsk': 21600, 'oral': 18000, 'phnom_penh': 25200, 'pontianak': 25200,\n",
    "    'pyongyang': 30600, 'qatar': 10800, 'qyzylorda': 21600, 'rangoon': 23400,\n",
    "    'asia_riyadh': 10800, 'asia_riyadh87': 10800, 'asia_riyadh88': 10800, 'asia_riyadh89': 10800,\n",
    "    'saigon': 25200, 'sakhalin': 36000, 'samarkand': 18000, 'seoul': 32400, \n",
    "    'shanghai': 28800, 'singapore': 28800, 'srednekolymsk': 39600, 'taipei': 28800,\n",
    "    'tashkent': 18000, 'tbilisi': 14400, 'tehran': 12600, 'tel_aviv': 7200, \n",
    "    'thimbu': 21600, 'thimphu': 21600, 'tokyo': 32400, 'ujung_pandang': 28800,\n",
    "    'ulaanbaatar': 28800, 'ulan_bator': 28800, 'urumqi': 21600, 'vientiane': 25200,\n",
    "    'vladivostok': 36000, 'yakutsk': 32400, 'yekaterinburg': 18000, 'yerevan': 14400,\n",
    "    'azores': -3600, 'bermuda': -14400, 'canary': 0, 'cape_verde': -3600, \n",
    "    'faeroe': 0, 'faroe': 0, 'jan_mayen': 3600, 'madeira': 0, 'reykjavik': 0, \n",
    "    'south_georgia': -7200, 'st_helena': 0, 'stanley': -10800, 'act': 36000,\n",
    "    'adelaide': 34200, 'brisbane': 36000, 'broken_hill': 34200, 'canberra': 36000,\n",
    "    'currie': 3600, 'darwin': 34200, 'eucla': 31500, 'hobart': 36000, 'lhi': 37800,\n",
    "    'lindeman': 36000, 'lord_howe': 37800, 'melbourne': 36000, 'nsw': 36000,\n",
    "    'north': 34200, 'perth': 28800, 'queensland': 36000, 'south': 34200, \n",
    "    'sydney': 36000, 'tasmania': 36000, 'victoria': 36000, 'west': 28800,\n",
    "    'yancowinna': 34200, 'acre': -18000, 'denoronha': -7200, 'east': -10800,\n",
    "    'west': -14400, 'cet': 3600, 'cst6cdt': -21600, 'atlantic': -14400, \n",
    "    'central': -21600, 'east_saskatchewan': -21600, 'eastern': -18000,'mountain': -25200,\n",
    "    'newfoundland': -12600, 'pacific': -28800, 'saskatchewan': -21600, 'yukon': -28800,\n",
    "    'continental': -10800, 'easterisland': -18000, 'cuba': -18000, 'eet': 7200,\n",
    "    'est': -18000, 'est5edt': -18000, 'egypt': 7200, 'eire': 0, 'gmt': 0, \n",
    "    'gmt+0': 0, 'gmt+1': -3600, 'gmt+10': -36000, 'gmt+11': -39600, 'gmt+12': -43200,\n",
    "    'gmt+2': -7200, 'gmt+3': -10800, 'gmt+4': -14400, 'gmt+5': -18000, 'gmt+6': -21600,\n",
    "    'gmt+7': -25200, 'gmt_8': -28800, 'gmt+9': -32400, 'gmt-0': 0, 'gmt-1': 3600, \n",
    "    'gmt-10': 36000, 'gmt-11': 39600, 'gmt-12': 43200, 'gmt-13': 46800, 'gmt-14': 50400,\n",
    "    'gmt-2': 7200, 'gmt-3': 10800, 'gmt-4': 14400, 'gmt-5': 18000, 'gmt-6': 21600, \n",
    "    'gmt-7': 25200, 'gmt-8': 28800, 'gmt-9': 32400, 'gmt0': 0, 'greenwich': 0,\n",
    "    'uct': 0, 'utc': 0, 'universal': 0, 'zulu': 0, 'amsterdam': 3600, 'andorra': 3600,\n",
    "    'athens': 7200, 'belfast': 0, 'belgrade': 3600, 'berlin': 3600, 'bratislava': 3600,\n",
    "    'brussels': 3600, 'bucharest': 7200, 'budapest': 3600, 'busingen': 3600, \n",
    "    'chisinau': 7200, 'copenhagen': 3600, 'dublin': 0, 'gibraltar': 3600, \n",
    "    'guernsey': 0, 'helsinki': 7200, 'isle_of_man': 0, 'istanbul': 7200, \n",
    "    'jersey': 0, 'kaliningrad': 7200, 'kiev': 7200, 'lisbon': 0, 'ljubljana': 3600,\n",
    "    'london': 0, 'luxembourg': 3600, 'madrid': 3600, 'malta': 3600, 'mariehamn': 7200,\n",
    "    'minsk': 10800, 'monaco': 3600, 'moscow': 10800, 'nicosia': 7200, 'oslo': 3600, \n",
    "    'paris': 3600, 'podgorica': 3600, 'prague': 3600, 'riga': 7200, 'rome': 3600, \n",
    "    'samara': 14400, 'san_marino': 3600, 'sarajevo': 3600, 'simferopol': 7200, \n",
    "    'skopje': 3600, 'sofia': 7200, 'stockholm': 3600, 'tallinn': 7200, 'tirane': 3600,\n",
    "    'tiraspol': 7200, 'uzhgorod': 7200, 'vaduz': 3600, 'vatican': 3600, 'vienna': 3600,\n",
    "    'vilnius': 7200, 'volgograd': 10800, 'warsaw': 3600, 'zagreb': 3600, \n",
    "    'zaporozhye': 7200, 'zurich': 3600, 'factory': 0, 'gb': 0, 'gb_eire': 0, 'gmt': 0,\n",
    "    'gmt+0': 0, 'gmt-0': 0, 'gmt0': 0, 'greenwich': 0, 'hst': -36000, 'hongkong': 28800,\n",
    "    'iceland': 0, 'antananarivo': 10800, 'chagos': 21600, 'christmas': 25200,\n",
    "    'cocos': 23400, 'comoro': 10800, 'kerguelen': 18000, 'mahe': 14400, \n",
    "    'maldives': 18000, 'mauritius': 14400, 'mayotte': 10800, 'reunion': 14400, \n",
    "    'iran': 12600, 'israel': 7200, 'jamaica': -18000, 'japan': 32400, 'kwajalein': 43200,\n",
    "    'libya': 7200, 'met': 3600, 'mst': -25200, 'mst7mdt': -25200, 'bajanorte': -28800,\n",
    "    'bajasur': -25200, 'general': -21600, 'mideast_riyadh87': 0, 'mideast_riyadh88': 0,\n",
    "    'mideast_riyadh89': 0, 'nz': 43200, 'nz_chat': 45900, 'navajo': 0, 'prc': 0, \n",
    "    'pst8pdt': 0, 'apia': 46800, 'auckland': 43200, 'bougainville': 39600,\n",
    "    'chatham': 45900, 'chuuk': 36000, 'easter': -18000, 'efate': 39600, \n",
    "    'enderbury': 46800, 'fakaofo': 46800, 'fiji': 43200, 'galapagos': -21600, \n",
    "    'gambier': -32400, 'guadalcanal': 39600, 'guam': 36000, 'honolulu': -36000, \n",
    "    'johnston': -36000, 'kiritimati': 50400, 'kosrae': 39600, 'kwajalein': 43200,\n",
    "    'majuro': 43200, 'marquesas': -34200, 'midway': -39600, 'nauru': 43200, \n",
    "    'niue': -39600, 'norfolk': 39600, 'noumea': 39600, 'pago_pago': -39600, \n",
    "    'palau': 32400, 'pitcairn': -28800, 'ponape': 39600, 'port_moresby': 36000, \n",
    "    'rarotonga': -36000, 'saipan': 36000, 'samoa': -39600, 'tahiti': -36000,\n",
    "    'tarawa': 43200, 'tongatapu': 46800, 'truk': 36000, 'wake': 43200, 'wallis': 43200, \n",
    "    'yap': 36000, 'poland': 3600, 'portugal': 0, 'roc': 28800, 'rok': 32400, \n",
    "    'singapore': 28800, 'turkey': 7200, 'uct': 0, 'alaska': -32400, 'aleutian': -36000, \n",
    "    'arizona': -25200, 'central': -21600, 'east_indiana': -18000, 'eastern': -18000,\n",
    "    'hawaii': -36000, 'indiana_starke': -21600, 'michigan': -18000, 'mountain': -25200, \n",
    "    'pacific': -28800, 'pacific_new': -28800, 'samoa': -39600, 'utc': 0, 'universal': 0,\n",
    "    'w_su': 10800, 'wet': 0, 'zulu': 0\n",
    "}\n",
    "duplicates = ['riyadh', 'riyadh87', 'riyadh88', 'riyadh89']"
   ]
  },
  {
   "cell_type": "code",
   "execution_count": 15,
   "id": "2e2b2a09",
   "metadata": {},
   "outputs": [],
   "source": [
    "# c_t = {\n",
    "#     'addis_ababa': 10800, 'algiers': 3600, 'kamchatka': 43200,\n",
    "#     'apia': 46800,\n",
    "# }\n",
    "\n",
    "# tz_t = {\n",
    "#     'australian_central_daylight_savings_time': 37800, 'australian_central_standard_time': 34200, \n",
    "#     'acre_time': -18000\n",
    "# }"
   ]
  },
  {
   "cell_type": "code",
   "execution_count": 17,
   "id": "58d54692",
   "metadata": {},
   "outputs": [
    {
     "name": "stdout",
     "output_type": "stream",
     "text": [
      "Enter HH -9\n"
     ]
    },
    {
     "data": {
      "text/plain": [
       "-32400"
      ]
     },
     "execution_count": 17,
     "metadata": {},
     "output_type": "execute_result"
    }
   ],
   "source": [
    "sec_conv = input('Enter HH ')\n",
    "d = sec_conv.strip()\n",
    "sec = ((int(d)*60)) * 60\n",
    "sec"
   ]
  },
  {
   "cell_type": "code",
   "execution_count": 18,
   "id": "95b8b236",
   "metadata": {
    "scrolled": true
   },
   "outputs": [
    {
     "name": "stdout",
     "output_type": "stream",
     "text": [
      "Enter HH:MM 10:30\n"
     ]
    },
    {
     "data": {
      "text/plain": [
       "37800"
      ]
     },
     "execution_count": 18,
     "metadata": {},
     "output_type": "execute_result"
    }
   ],
   "source": [
    "sec_conv = input('Enter HH:MM ')\n",
    "d = sec_conv.strip().split(':')\n",
    "sec = ((int(d[0])*60) + int(d[1])) * 60\n",
    "sec"
   ]
  },
  {
   "cell_type": "code",
   "execution_count": 19,
   "id": "68fa3a5c",
   "metadata": {},
   "outputs": [],
   "source": [
    "# Convert specified country time to foreign time\n",
    "def conv1(cnt, to):\n",
    "    y = input('Input datetime in the format YYYY:MM:DD:HH:MM').split(\":\")\n",
    "    a = int(y[0])\n",
    "    b = int(y[1])\n",
    "    c = int(y[2])\n",
    "    d = int(y[3])\n",
    "    e = int(y[4])\n",
    "    h = dt.datetime(a,b,c,d,e);\n",
    "    print(f'time in {cnt} {h}')\n",
    "    \n",
    "    f = h - dt.timedelta(0,c_t[cnt]) # time in GMT\n",
    "    print(f'time in gmt {f}')\n",
    "    \n",
    "    i = f + dt.timedelta(0, c_t[to])\n",
    "    print(f'time in {to} {i}')"
   ]
  },
  {
   "cell_type": "code",
   "execution_count": 20,
   "id": "e0adee76",
   "metadata": {},
   "outputs": [],
   "source": [
    "# Convert current time to foreign time\n",
    "def conv2(cnt, to):\n",
    "    h = dt.datetime.now()\n",
    "    f = h - dt.timedelta(0,c_t[cnt]) \n",
    "    print (f'time in {cnt} {h}')\n",
    "    print(f'time in gmt {f}')\n",
    "    \n",
    "    i = f + dt.timedelta(0, c_t[to])\n",
    "    print(f'time in {to} {i}')"
   ]
  },
  {
   "cell_type": "code",
   "execution_count": 8,
   "id": "cc13f1b5",
   "metadata": {},
   "outputs": [],
   "source": [
    "# Convert current time to foreign time\n",
    "def convA():\n",
    "    print(\"=\" * 80)\n",
    "    print(\"This function converts your curent system time to another country's time.\\\n",
    "    \\nJust input the require details\")\n",
    "    print(\"=\" * 80)\n",
    "    cur_cntry = input('Which country are you in? ')\n",
    "    clean_cur_cntry = cur_cntry.strip().lower().replace(\" \", \"_\")\n",
    "    if (clean_cur_cntry or clean_to_cntry) in duplicates:\n",
    "        print(\"It seems the country you input exist in more than one location \\\n",
    "        \\nTry adding the continent before the country. E.g Asia Riyadh or Asia Riyadh87\")\n",
    "    elif clean_cur_cntry in c_t.keys():\n",
    "        to_cntry = input('Enter the country you want to check the current time: ')\n",
    "        clean_to_cntry = to_cntry.strip().lower().replace(\" \", \"_\")\n",
    "        if clean_to_cntry in c_t.keys():\n",
    "            h = dt.datetime.now()\n",
    "            f = h - dt.timedelta(0, c_t[clean_cur_cntry]) \n",
    "#             print(f'time in gmt {f}')\n",
    "            i = f + dt.timedelta(0, c_t[clean_to_cntry])\n",
    "            print(\"=\" * 110)\n",
    "            print (f'Your current time is {h} and its equivalent in {clean_to_cntry} is {i}')\n",
    "        else:\n",
    "            print(\"This function does not cover the specified country or you spelt it incorrectly. \\\n",
    "            \\nTry again\")\n",
    "#             return(convA())\n",
    "    else:\n",
    "        print(\"This function does not cover the specified country or you spelt it incorrectly. \\\n",
    "        \\nTry again\")\n",
    "        response = input(\"Do you want to try again y/n? \")\n",
    "        response = response.lower()\n",
    "        if response == 'y':\n",
    "            restart = convA()\n",
    "            print(restart)\n",
    "        else:\n",
    "            print(\"Thank you for using my converter\")\n",
    "            "
   ]
  },
  {
   "cell_type": "code",
   "execution_count": 12,
   "id": "3e05afe2",
   "metadata": {},
   "outputs": [
    {
     "name": "stdout",
     "output_type": "stream",
     "text": [
      "================================================================================\n",
      "This function converts your curent system time to another country's time.    \n",
      "Just input the require details\n",
      "================================================================================\n",
      "Which country are you in? mideast riyadh87\n",
      "Enter the country you want to check the current time: algiers\n",
      "==============================================================================================================\n",
      "Your current time is 2022-07-12 00:22:38.250681 and its equivalent in algiers is 2022-07-12 01:22:38.250681\n"
     ]
    }
   ],
   "source": [
    "convA()"
   ]
  },
  {
   "cell_type": "code",
   "execution_count": 23,
   "id": "4e861c7d",
   "metadata": {},
   "outputs": [
    {
     "name": "stdout",
     "output_type": "stream",
     "text": [
      "a\n",
      "a\n",
      "a\n",
      "end\n"
     ]
    }
   ],
   "source": [
    "count = 0\n",
    "while count < 3:\n",
    "    print(\"a\")\n",
    "    count += 1\n",
    "print('end')"
   ]
  },
  {
   "cell_type": "code",
   "execution_count": 24,
   "id": "e813531b",
   "metadata": {},
   "outputs": [],
   "source": [
    "def conv3(cnt, to):\n",
    "    y = input('Input datetime in the format YYYY:MM:DD:HH:MM ').split(\":\")\n",
    "    a = int(y[0])\n",
    "    b = int(y[1])\n",
    "    c = int(y[2])\n",
    "    d = int(y[3])\n",
    "    e = int(y[4])\n",
    "    h = dt.datetime(a,b,c,d,e);\n",
    "    print(f'time in {cnt} {h}')\n",
    "    \n",
    "    f = h - dt.timedelta(0,c_t[cnt]) # time in GMT\n",
    "    print(f'time in gmt {f}')\n",
    "    \n",
    "    i = f + dt.timedelta(0, c_t[to])\n",
    "    print(f'time in {to} {i}')\n",
    "    \n",
    "    yy = i -h\n",
    "    print(yy)\n",
    "    return yy"
   ]
  },
  {
   "cell_type": "code",
   "execution_count": 25,
   "id": "33d06d1c",
   "metadata": {},
   "outputs": [],
   "source": [
    "def conv4(cnt, to):\n",
    "    h = dt.datetime.now()\n",
    "    f = h - dt.timedelta(0,c_t[cnt]) \n",
    "    print (f'time in {cnt} {h}')\n",
    "    print(f'time in gmt {f}')\n",
    "    \n",
    "    i = f + dt.timedelta(0, c_t[to])\n",
    "    print(f'time in {to} {i}')\n",
    "    yo = i - h\n",
    "    go = yo.days\n",
    "    gt = yo.total_seconds()\n",
    "    gd = gt/(60*60)\n",
    "    print(yo)\n",
    "    \n",
    "    return yo,go,gt,gd"
   ]
  },
  {
   "cell_type": "code",
   "execution_count": 26,
   "id": "2d4c213f",
   "metadata": {},
   "outputs": [],
   "source": [
    "def conv6(cnt):\n",
    "    k = dt.datetime.now()\n",
    "    y = input('Input datetime in the format YYYY:MM:DD:HH:MM ').split(\":\")\n",
    "    a = int(y[0])\n",
    "    b = int(y[1])\n",
    "    c = int(y[2])\n",
    "    d = int(y[3])\n",
    "    e = int(y[4])\n",
    "    h = dt.datetime(a,b,c,d,e);\n",
    "    print(k)\n",
    "    print(f'future time in  {cnt} {h}')\n",
    "    \n",
    "    f = h - k \n",
    "    \n",
    "    \n",
    "    print(f)\n",
    "    return f"
   ]
  },
  {
   "cell_type": "code",
   "execution_count": 27,
   "id": "e3b09777",
   "metadata": {},
   "outputs": [],
   "source": [
    "def conv7(cnt, to):\n",
    "    k = dt.datetime.now()\n",
    "    y = input('Input datetime in the format YYYY:MM:DD:HH:MM ').split(\":\")\n",
    "    a = int(y[0])\n",
    "    b = int(y[1])\n",
    "    c = int(y[2])\n",
    "    d = int(y[3])\n",
    "    e = int(y[4])\n",
    "    h = dt.datetime(a,b,c,d,e);\n",
    "    print(f'time in {to} {h}')\n",
    "    \n",
    "    f = h - dt.timedelta(0,c_t[to]) # time in GMT\n",
    "    print(f'time in gmt {f}')\n",
    "    \n",
    "    i = f + dt.timedelta(0, c_t[cnt])\n",
    "    print(f'time in {cnt} {i}')\n",
    "    print(k)\n",
    "    print(i-k)\n",
    "    print(h-k)"
   ]
  },
  {
   "cell_type": "code",
   "execution_count": 28,
   "id": "b6058e85",
   "metadata": {},
   "outputs": [],
   "source": [
    "def conv8(cnt, to):\n",
    "    k = dt.datetime.now()\n",
    "    y = input('Input datetime in the format YYYY:MM:DD:HH:MM ').split(\":\")\n",
    "    a = int(y[0])\n",
    "    b = int(y[1])\n",
    "    c = int(y[2])\n",
    "    d = int(y[3])\n",
    "    e = int(y[4])\n",
    "    h = dt.datetime(a,b,c,d,e);\n",
    "    print(f'time in {to} {h}')\n",
    "    \n",
    "    f = h - dt.timedelta(0,c_t[to]) # time in GMT\n",
    "    print(f'time in gmt {f}')\n",
    "    \n",
    "    i = f + dt.timedelta(0, c_t[cnt])\n",
    "    u = i-k\n",
    "    o = h-k\n",
    "    print(f'time in {cnt} {i}')\n",
    "    print(k)\n",
    "    print(u)\n",
    "    print(o)\n",
    "    print(o-u)\n"
   ]
  },
  {
   "cell_type": "code",
   "execution_count": 29,
   "id": "05e4dcba",
   "metadata": {
    "scrolled": false
   },
   "outputs": [
    {
     "name": "stdout",
     "output_type": "stream",
     "text": [
      "Input datetime in the format YYYY:MM:DD:HH:MM2022:07:10:12:30\n",
      "time in algiers 2022-07-10 12:30:00\n",
      "time in gmt 2022-07-10 11:30:00\n",
      "time in addis_ababa 2022-07-10 14:30:00\n"
     ]
    }
   ],
   "source": [
    "conv1('algiers', 'addis_ababa')"
   ]
  },
  {
   "cell_type": "code",
   "execution_count": 84,
   "id": "1492b0bd",
   "metadata": {},
   "outputs": [
    {
     "name": "stdout",
     "output_type": "stream",
     "text": [
      "time in algiers 2022-07-08 00:03:46.723975\n",
      "time in gmt 2022-07-07 23:03:46.723975\n",
      "time in addis_ababa 2022-07-08 02:03:46.723975\n"
     ]
    }
   ],
   "source": [
    "conv2('algiers', 'addis_ababa')"
   ]
  },
  {
   "cell_type": "code",
   "execution_count": 85,
   "id": "9a2432b0",
   "metadata": {},
   "outputs": [
    {
     "name": "stdout",
     "output_type": "stream",
     "text": [
      "Input datetime in the format YYYY:MM:DD:HH:MM2022:07:10:12:30\n",
      "time in addis_ababa 2022-07-10 12:30:00\n",
      "time in gmt 2022-07-10 09:30:00\n",
      "time in algiers 2022-07-10 10:30:00\n"
     ]
    }
   ],
   "source": [
    "conv1('addis_ababa', 'algiers')"
   ]
  },
  {
   "cell_type": "code",
   "execution_count": 55,
   "id": "2487f969",
   "metadata": {
    "scrolled": false
   },
   "outputs": [
    {
     "name": "stdout",
     "output_type": "stream",
     "text": [
      "Input datetime in the format YYYY:MM:DD:HH:MM 2022:07:07:12:30\n",
      "time in addis_ababa 2022-07-07 12:30:00\n",
      "time in gmt 2022-07-07 09:30:00\n",
      "time in algiers 2022-07-07 10:30:00\n",
      "-1 day, 22:00:00\n"
     ]
    },
    {
     "data": {
      "text/plain": [
       "datetime.timedelta(days=-1, seconds=79200)"
      ]
     },
     "execution_count": 55,
     "metadata": {},
     "output_type": "execute_result"
    }
   ],
   "source": [
    "conv3('addis_ababa', 'algiers')"
   ]
  },
  {
   "cell_type": "code",
   "execution_count": 35,
   "id": "4d11668a",
   "metadata": {
    "scrolled": false
   },
   "outputs": [
    {
     "name": "stdout",
     "output_type": "stream",
     "text": [
      "Input datetime in the format YYYY:MM:DD:HH:MM 2022:07:07:12:30\n",
      "time in tucuman 2022-07-07 12:30:00\n",
      "time in gmt 2022-07-07 15:30:00\n",
      "time in algiers 2022-07-07 16:30:00\n",
      "4:00:00\n"
     ]
    },
    {
     "data": {
      "text/plain": [
       "datetime.timedelta(seconds=14400)"
      ]
     },
     "execution_count": 35,
     "metadata": {},
     "output_type": "execute_result"
    }
   ],
   "source": [
    "conv3('tucuman', 'algiers')"
   ]
  },
  {
   "cell_type": "code",
   "execution_count": 79,
   "id": "18832b09",
   "metadata": {
    "scrolled": false
   },
   "outputs": [
    {
     "name": "stdout",
     "output_type": "stream",
     "text": [
      "time in addis_ababa 2022-07-07 23:58:51.443882\n",
      "time in gmt 2022-07-07 20:58:51.443882\n",
      "time in algiers 2022-07-07 21:58:51.443882\n",
      "-1 day, 22:00:00\n"
     ]
    },
    {
     "data": {
      "text/plain": [
       "(datetime.timedelta(days=-1, seconds=79200), -1, -7200.0, -2.0)"
      ]
     },
     "execution_count": 79,
     "metadata": {},
     "output_type": "execute_result"
    }
   ],
   "source": [
    "conv4('addis_ababa', 'algiers')"
   ]
  },
  {
   "cell_type": "code",
   "execution_count": 38,
   "id": "c3145015",
   "metadata": {
    "scrolled": false
   },
   "outputs": [
    {
     "name": "stdout",
     "output_type": "stream",
     "text": [
      "time in nairobi 2022-07-11 00:46:51.779830\n",
      "time in gmt 2022-07-10 21:46:51.779830\n",
      "time in porto_novo 2022-07-10 22:46:51.779830\n",
      "-1 day, 22:00:00\n"
     ]
    },
    {
     "data": {
      "text/plain": [
       "(datetime.timedelta(days=-1, seconds=79200), -1, -7200.0, -2.0)"
      ]
     },
     "execution_count": 38,
     "metadata": {},
     "output_type": "execute_result"
    }
   ],
   "source": [
    "conv4('nairobi', 'porto_novo')"
   ]
  },
  {
   "cell_type": "code",
   "execution_count": 76,
   "id": "bfa193a9",
   "metadata": {
    "scrolled": false
   },
   "outputs": [
    {
     "name": "stdout",
     "output_type": "stream",
     "text": [
      "Input datetime in the format YYYY:MM:DD:HH:MM 2022:07:10:12:30\n",
      "2022-07-07 23:55:33.697360\n",
      "future time in  algiers 2022-07-10 12:30:00\n",
      "2 days, 12:34:26.302640\n"
     ]
    },
    {
     "data": {
      "text/plain": [
       "datetime.timedelta(days=2, seconds=45266, microseconds=302640)"
      ]
     },
     "execution_count": 76,
     "metadata": {},
     "output_type": "execute_result"
    }
   ],
   "source": [
    "conv6('algiers')"
   ]
  },
  {
   "cell_type": "code",
   "execution_count": 69,
   "id": "b2ca3c14",
   "metadata": {
    "scrolled": true
   },
   "outputs": [
    {
     "name": "stdout",
     "output_type": "stream",
     "text": [
      "Input datetime in the format YYYY:MM:DD:HH:MM 2022:07:10:12:30\n",
      "time in algiers 2022-07-10 12:30:00\n",
      "time in gmt 2022-07-10 11:30:00\n",
      "time in addis_ababa 2022-07-10 14:30:00\n",
      "2022-07-07 23:11:26.346730\n",
      "2 days, 15:18:33.653270\n",
      "2 days, 13:18:33.653270\n"
     ]
    }
   ],
   "source": [
    "conv7('addis_ababa', 'algiers')"
   ]
  },
  {
   "cell_type": "code",
   "execution_count": 68,
   "id": "aa15a83b",
   "metadata": {
    "scrolled": true
   },
   "outputs": [
    {
     "name": "stdout",
     "output_type": "stream",
     "text": [
      "Input datetime in the format YYYY:MM:DD:HH:MM 2022:07:10:12:30\n",
      "time in addis_ababa 2022-07-10 12:30:00\n",
      "time in gmt 2022-07-10 09:30:00\n",
      "time in algiers 2022-07-10 10:30:00\n",
      "2022-07-07 23:10:41.222605\n",
      "2 days, 11:19:18.777395\n",
      "2 days, 13:19:18.777395\n"
     ]
    }
   ],
   "source": [
    "conv7('algiers', 'addis_ababa')"
   ]
  },
  {
   "cell_type": "code",
   "execution_count": 73,
   "id": "01931aab",
   "metadata": {
    "scrolled": false
   },
   "outputs": [
    {
     "name": "stdout",
     "output_type": "stream",
     "text": [
      "Input datetime in the format YYYY:MM:DD:HH:MM 2022:07:10:12:30\n",
      "time in addis_ababa 2022-07-10 12:30:00\n",
      "time in gmt 2022-07-10 09:30:00\n",
      "time in algiers 2022-07-10 10:30:00\n",
      "2022-07-07 23:41:37.994784\n",
      "2 days, 10:48:22.005216\n",
      "2 days, 12:48:22.005216\n",
      "2:00:00\n"
     ]
    }
   ],
   "source": [
    "conv8('algiers', 'addis_ababa')"
   ]
  },
  {
   "cell_type": "code",
   "execution_count": 74,
   "id": "a92dae88",
   "metadata": {
    "scrolled": true
   },
   "outputs": [
    {
     "name": "stdout",
     "output_type": "stream",
     "text": [
      "Input datetime in the format YYYY:MM:DD:HH:MM 2022:07:10:12:30\n",
      "time in algiers 2022-07-10 12:30:00\n",
      "time in gmt 2022-07-10 11:30:00\n",
      "time in addis_ababa 2022-07-10 14:30:00\n",
      "2022-07-07 23:47:57.008550\n",
      "2 days, 14:42:02.991450\n",
      "2 days, 12:42:02.991450\n",
      "-1 day, 22:00:00\n"
     ]
    }
   ],
   "source": [
    "conv8('addis_ababa', 'algiers')"
   ]
  },
  {
   "cell_type": "code",
   "execution_count": null,
   "id": "d363a7de",
   "metadata": {},
   "outputs": [],
   "source": []
  },
  {
   "cell_type": "code",
   "execution_count": 20,
   "id": "c8a194f8",
   "metadata": {},
   "outputs": [
    {
     "name": "stdout",
     "output_type": "stream",
     "text": [
      "10:30:00\n"
     ]
    }
   ],
   "source": [
    "a = dt.timedelta(seconds = 37800)\n",
    "print(a)"
   ]
  },
  {
   "cell_type": "code",
   "execution_count": 30,
   "id": "41992154",
   "metadata": {
    "scrolled": true
   },
   "outputs": [
    {
     "data": {
      "text/plain": [
       "datetime.timedelta(days=1, seconds=2, microseconds=5)"
      ]
     },
     "execution_count": 30,
     "metadata": {},
     "output_type": "execute_result"
    }
   ],
   "source": [
    "\n",
    "\n",
    "dt.timedelta(1,2,5)\n"
   ]
  }
 ],
 "metadata": {
  "kernelspec": {
   "display_name": "Python 3 (ipykernel)",
   "language": "python",
   "name": "python3"
  },
  "language_info": {
   "codemirror_mode": {
    "name": "ipython",
    "version": 3
   },
   "file_extension": ".py",
   "mimetype": "text/x-python",
   "name": "python",
   "nbconvert_exporter": "python",
   "pygments_lexer": "ipython3",
   "version": "3.9.10"
  }
 },
 "nbformat": 4,
 "nbformat_minor": 5
}
